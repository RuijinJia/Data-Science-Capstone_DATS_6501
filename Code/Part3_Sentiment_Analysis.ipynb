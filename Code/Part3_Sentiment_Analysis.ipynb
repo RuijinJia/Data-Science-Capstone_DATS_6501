{
  "nbformat": 4,
  "nbformat_minor": 0,
  "metadata": {
    "accelerator": "GPU",
    "colab": {
      "name": "Part3_Sentiment Analysis.ipynb",
      "provenance": [],
      "collapsed_sections": []
    },
    "kernelspec": {
      "display_name": "Python 3",
      "name": "python3"
    },
    "language_info": {
      "name": "python"
    },
    "widgets": {
      "application/vnd.jupyter.widget-state+json": {
        "16448a122ccc47209fcf50e04ee3c98f": {
          "model_module": "@jupyter-widgets/controls",
          "model_name": "HBoxModel",
          "state": {
            "_view_name": "HBoxView",
            "_dom_classes": [],
            "_model_name": "HBoxModel",
            "_view_module": "@jupyter-widgets/controls",
            "_model_module_version": "1.5.0",
            "_view_count": null,
            "_view_module_version": "1.5.0",
            "box_style": "",
            "layout": "IPY_MODEL_23d7bd3d35fd47ea9850a6c970376d71",
            "_model_module": "@jupyter-widgets/controls",
            "children": [
              "IPY_MODEL_99a30c840f724d9b99660fc71a817c27",
              "IPY_MODEL_fbb1e0da246049249d91ccdffe5003c2"
            ]
          }
        },
        "23d7bd3d35fd47ea9850a6c970376d71": {
          "model_module": "@jupyter-widgets/base",
          "model_name": "LayoutModel",
          "state": {
            "_view_name": "LayoutView",
            "grid_template_rows": null,
            "right": null,
            "justify_content": null,
            "_view_module": "@jupyter-widgets/base",
            "overflow": null,
            "_model_module_version": "1.2.0",
            "_view_count": null,
            "flex_flow": null,
            "width": null,
            "min_width": null,
            "border": null,
            "align_items": null,
            "bottom": null,
            "_model_module": "@jupyter-widgets/base",
            "top": null,
            "grid_column": null,
            "overflow_y": null,
            "overflow_x": null,
            "grid_auto_flow": null,
            "grid_area": null,
            "grid_template_columns": null,
            "flex": null,
            "_model_name": "LayoutModel",
            "justify_items": null,
            "grid_row": null,
            "max_height": null,
            "align_content": null,
            "visibility": null,
            "align_self": null,
            "height": null,
            "min_height": null,
            "padding": null,
            "grid_auto_rows": null,
            "grid_gap": null,
            "max_width": null,
            "order": null,
            "_view_module_version": "1.2.0",
            "grid_template_areas": null,
            "object_position": null,
            "object_fit": null,
            "grid_auto_columns": null,
            "margin": null,
            "display": null,
            "left": null
          }
        },
        "99a30c840f724d9b99660fc71a817c27": {
          "model_module": "@jupyter-widgets/controls",
          "model_name": "FloatProgressModel",
          "state": {
            "_view_name": "ProgressView",
            "style": "IPY_MODEL_c7c03e5d266d4ec9a7c0c4c9ee5bfaf6",
            "_dom_classes": [],
            "description": "Downloading: 100%",
            "_model_name": "FloatProgressModel",
            "bar_style": "success",
            "max": 231508,
            "_view_module": "@jupyter-widgets/controls",
            "_model_module_version": "1.5.0",
            "value": 231508,
            "_view_count": null,
            "_view_module_version": "1.5.0",
            "orientation": "horizontal",
            "min": 0,
            "description_tooltip": null,
            "_model_module": "@jupyter-widgets/controls",
            "layout": "IPY_MODEL_d161e754a2bf4f63b1404b476b23d272"
          }
        },
        "fbb1e0da246049249d91ccdffe5003c2": {
          "model_module": "@jupyter-widgets/controls",
          "model_name": "HTMLModel",
          "state": {
            "_view_name": "HTMLView",
            "style": "IPY_MODEL_90c0b5f66c1740478d0c176d50aeb68a",
            "_dom_classes": [],
            "description": "",
            "_model_name": "HTMLModel",
            "placeholder": "​",
            "_view_module": "@jupyter-widgets/controls",
            "_model_module_version": "1.5.0",
            "value": " 232k/232k [00:00&lt;00:00, 1.08MB/s]",
            "_view_count": null,
            "_view_module_version": "1.5.0",
            "description_tooltip": null,
            "_model_module": "@jupyter-widgets/controls",
            "layout": "IPY_MODEL_59663a4a850e4ed3be26db5aabd73550"
          }
        },
        "c7c03e5d266d4ec9a7c0c4c9ee5bfaf6": {
          "model_module": "@jupyter-widgets/controls",
          "model_name": "ProgressStyleModel",
          "state": {
            "_view_name": "StyleView",
            "_model_name": "ProgressStyleModel",
            "description_width": "initial",
            "_view_module": "@jupyter-widgets/base",
            "_model_module_version": "1.5.0",
            "_view_count": null,
            "_view_module_version": "1.2.0",
            "bar_color": null,
            "_model_module": "@jupyter-widgets/controls"
          }
        },
        "d161e754a2bf4f63b1404b476b23d272": {
          "model_module": "@jupyter-widgets/base",
          "model_name": "LayoutModel",
          "state": {
            "_view_name": "LayoutView",
            "grid_template_rows": null,
            "right": null,
            "justify_content": null,
            "_view_module": "@jupyter-widgets/base",
            "overflow": null,
            "_model_module_version": "1.2.0",
            "_view_count": null,
            "flex_flow": null,
            "width": null,
            "min_width": null,
            "border": null,
            "align_items": null,
            "bottom": null,
            "_model_module": "@jupyter-widgets/base",
            "top": null,
            "grid_column": null,
            "overflow_y": null,
            "overflow_x": null,
            "grid_auto_flow": null,
            "grid_area": null,
            "grid_template_columns": null,
            "flex": null,
            "_model_name": "LayoutModel",
            "justify_items": null,
            "grid_row": null,
            "max_height": null,
            "align_content": null,
            "visibility": null,
            "align_self": null,
            "height": null,
            "min_height": null,
            "padding": null,
            "grid_auto_rows": null,
            "grid_gap": null,
            "max_width": null,
            "order": null,
            "_view_module_version": "1.2.0",
            "grid_template_areas": null,
            "object_position": null,
            "object_fit": null,
            "grid_auto_columns": null,
            "margin": null,
            "display": null,
            "left": null
          }
        },
        "90c0b5f66c1740478d0c176d50aeb68a": {
          "model_module": "@jupyter-widgets/controls",
          "model_name": "DescriptionStyleModel",
          "state": {
            "_view_name": "StyleView",
            "_model_name": "DescriptionStyleModel",
            "description_width": "",
            "_view_module": "@jupyter-widgets/base",
            "_model_module_version": "1.5.0",
            "_view_count": null,
            "_view_module_version": "1.2.0",
            "_model_module": "@jupyter-widgets/controls"
          }
        },
        "59663a4a850e4ed3be26db5aabd73550": {
          "model_module": "@jupyter-widgets/base",
          "model_name": "LayoutModel",
          "state": {
            "_view_name": "LayoutView",
            "grid_template_rows": null,
            "right": null,
            "justify_content": null,
            "_view_module": "@jupyter-widgets/base",
            "overflow": null,
            "_model_module_version": "1.2.0",
            "_view_count": null,
            "flex_flow": null,
            "width": null,
            "min_width": null,
            "border": null,
            "align_items": null,
            "bottom": null,
            "_model_module": "@jupyter-widgets/base",
            "top": null,
            "grid_column": null,
            "overflow_y": null,
            "overflow_x": null,
            "grid_auto_flow": null,
            "grid_area": null,
            "grid_template_columns": null,
            "flex": null,
            "_model_name": "LayoutModel",
            "justify_items": null,
            "grid_row": null,
            "max_height": null,
            "align_content": null,
            "visibility": null,
            "align_self": null,
            "height": null,
            "min_height": null,
            "padding": null,
            "grid_auto_rows": null,
            "grid_gap": null,
            "max_width": null,
            "order": null,
            "_view_module_version": "1.2.0",
            "grid_template_areas": null,
            "object_position": null,
            "object_fit": null,
            "grid_auto_columns": null,
            "margin": null,
            "display": null,
            "left": null
          }
        },
        "cb35d3bacc29466e8ab34e4103fb42f6": {
          "model_module": "@jupyter-widgets/controls",
          "model_name": "HBoxModel",
          "state": {
            "_view_name": "HBoxView",
            "_dom_classes": [],
            "_model_name": "HBoxModel",
            "_view_module": "@jupyter-widgets/controls",
            "_model_module_version": "1.5.0",
            "_view_count": null,
            "_view_module_version": "1.5.0",
            "box_style": "",
            "layout": "IPY_MODEL_77c667a744e740ee9b8b8c70caf5011f",
            "_model_module": "@jupyter-widgets/controls",
            "children": [
              "IPY_MODEL_f95476bcd2c044f8bd4757232110a90a",
              "IPY_MODEL_5fa9d486f1a44222bfe564b0270c83c1"
            ]
          }
        },
        "77c667a744e740ee9b8b8c70caf5011f": {
          "model_module": "@jupyter-widgets/base",
          "model_name": "LayoutModel",
          "state": {
            "_view_name": "LayoutView",
            "grid_template_rows": null,
            "right": null,
            "justify_content": null,
            "_view_module": "@jupyter-widgets/base",
            "overflow": null,
            "_model_module_version": "1.2.0",
            "_view_count": null,
            "flex_flow": null,
            "width": null,
            "min_width": null,
            "border": null,
            "align_items": null,
            "bottom": null,
            "_model_module": "@jupyter-widgets/base",
            "top": null,
            "grid_column": null,
            "overflow_y": null,
            "overflow_x": null,
            "grid_auto_flow": null,
            "grid_area": null,
            "grid_template_columns": null,
            "flex": null,
            "_model_name": "LayoutModel",
            "justify_items": null,
            "grid_row": null,
            "max_height": null,
            "align_content": null,
            "visibility": null,
            "align_self": null,
            "height": null,
            "min_height": null,
            "padding": null,
            "grid_auto_rows": null,
            "grid_gap": null,
            "max_width": null,
            "order": null,
            "_view_module_version": "1.2.0",
            "grid_template_areas": null,
            "object_position": null,
            "object_fit": null,
            "grid_auto_columns": null,
            "margin": null,
            "display": null,
            "left": null
          }
        },
        "f95476bcd2c044f8bd4757232110a90a": {
          "model_module": "@jupyter-widgets/controls",
          "model_name": "FloatProgressModel",
          "state": {
            "_view_name": "ProgressView",
            "style": "IPY_MODEL_29645e2edd684b3c81e2597e39f3e6cb",
            "_dom_classes": [],
            "description": "Downloading: 100%",
            "_model_name": "FloatProgressModel",
            "bar_style": "success",
            "max": 28,
            "_view_module": "@jupyter-widgets/controls",
            "_model_module_version": "1.5.0",
            "value": 28,
            "_view_count": null,
            "_view_module_version": "1.5.0",
            "orientation": "horizontal",
            "min": 0,
            "description_tooltip": null,
            "_model_module": "@jupyter-widgets/controls",
            "layout": "IPY_MODEL_22d07b3e63cd48efba691ce2746a3ef1"
          }
        },
        "5fa9d486f1a44222bfe564b0270c83c1": {
          "model_module": "@jupyter-widgets/controls",
          "model_name": "HTMLModel",
          "state": {
            "_view_name": "HTMLView",
            "style": "IPY_MODEL_51462e1c02a94b8cbdef799be8697151",
            "_dom_classes": [],
            "description": "",
            "_model_name": "HTMLModel",
            "placeholder": "​",
            "_view_module": "@jupyter-widgets/controls",
            "_model_module_version": "1.5.0",
            "value": " 28.0/28.0 [00:00&lt;00:00, 298B/s]",
            "_view_count": null,
            "_view_module_version": "1.5.0",
            "description_tooltip": null,
            "_model_module": "@jupyter-widgets/controls",
            "layout": "IPY_MODEL_8df56ef257274853b87608eb5b071edf"
          }
        },
        "29645e2edd684b3c81e2597e39f3e6cb": {
          "model_module": "@jupyter-widgets/controls",
          "model_name": "ProgressStyleModel",
          "state": {
            "_view_name": "StyleView",
            "_model_name": "ProgressStyleModel",
            "description_width": "initial",
            "_view_module": "@jupyter-widgets/base",
            "_model_module_version": "1.5.0",
            "_view_count": null,
            "_view_module_version": "1.2.0",
            "bar_color": null,
            "_model_module": "@jupyter-widgets/controls"
          }
        },
        "22d07b3e63cd48efba691ce2746a3ef1": {
          "model_module": "@jupyter-widgets/base",
          "model_name": "LayoutModel",
          "state": {
            "_view_name": "LayoutView",
            "grid_template_rows": null,
            "right": null,
            "justify_content": null,
            "_view_module": "@jupyter-widgets/base",
            "overflow": null,
            "_model_module_version": "1.2.0",
            "_view_count": null,
            "flex_flow": null,
            "width": null,
            "min_width": null,
            "border": null,
            "align_items": null,
            "bottom": null,
            "_model_module": "@jupyter-widgets/base",
            "top": null,
            "grid_column": null,
            "overflow_y": null,
            "overflow_x": null,
            "grid_auto_flow": null,
            "grid_area": null,
            "grid_template_columns": null,
            "flex": null,
            "_model_name": "LayoutModel",
            "justify_items": null,
            "grid_row": null,
            "max_height": null,
            "align_content": null,
            "visibility": null,
            "align_self": null,
            "height": null,
            "min_height": null,
            "padding": null,
            "grid_auto_rows": null,
            "grid_gap": null,
            "max_width": null,
            "order": null,
            "_view_module_version": "1.2.0",
            "grid_template_areas": null,
            "object_position": null,
            "object_fit": null,
            "grid_auto_columns": null,
            "margin": null,
            "display": null,
            "left": null
          }
        },
        "51462e1c02a94b8cbdef799be8697151": {
          "model_module": "@jupyter-widgets/controls",
          "model_name": "DescriptionStyleModel",
          "state": {
            "_view_name": "StyleView",
            "_model_name": "DescriptionStyleModel",
            "description_width": "",
            "_view_module": "@jupyter-widgets/base",
            "_model_module_version": "1.5.0",
            "_view_count": null,
            "_view_module_version": "1.2.0",
            "_model_module": "@jupyter-widgets/controls"
          }
        },
        "8df56ef257274853b87608eb5b071edf": {
          "model_module": "@jupyter-widgets/base",
          "model_name": "LayoutModel",
          "state": {
            "_view_name": "LayoutView",
            "grid_template_rows": null,
            "right": null,
            "justify_content": null,
            "_view_module": "@jupyter-widgets/base",
            "overflow": null,
            "_model_module_version": "1.2.0",
            "_view_count": null,
            "flex_flow": null,
            "width": null,
            "min_width": null,
            "border": null,
            "align_items": null,
            "bottom": null,
            "_model_module": "@jupyter-widgets/base",
            "top": null,
            "grid_column": null,
            "overflow_y": null,
            "overflow_x": null,
            "grid_auto_flow": null,
            "grid_area": null,
            "grid_template_columns": null,
            "flex": null,
            "_model_name": "LayoutModel",
            "justify_items": null,
            "grid_row": null,
            "max_height": null,
            "align_content": null,
            "visibility": null,
            "align_self": null,
            "height": null,
            "min_height": null,
            "padding": null,
            "grid_auto_rows": null,
            "grid_gap": null,
            "max_width": null,
            "order": null,
            "_view_module_version": "1.2.0",
            "grid_template_areas": null,
            "object_position": null,
            "object_fit": null,
            "grid_auto_columns": null,
            "margin": null,
            "display": null,
            "left": null
          }
        },
        "e825e65dfdff4a41a31026d961983eec": {
          "model_module": "@jupyter-widgets/controls",
          "model_name": "HBoxModel",
          "state": {
            "_view_name": "HBoxView",
            "_dom_classes": [],
            "_model_name": "HBoxModel",
            "_view_module": "@jupyter-widgets/controls",
            "_model_module_version": "1.5.0",
            "_view_count": null,
            "_view_module_version": "1.5.0",
            "box_style": "",
            "layout": "IPY_MODEL_1d6b52ba541249cca3ed45b585ab1d0f",
            "_model_module": "@jupyter-widgets/controls",
            "children": [
              "IPY_MODEL_ca701e6402f94f2e80d00fdbc2510fbf",
              "IPY_MODEL_328a200537b44741bfcae5d8d4d3c820"
            ]
          }
        },
        "1d6b52ba541249cca3ed45b585ab1d0f": {
          "model_module": "@jupyter-widgets/base",
          "model_name": "LayoutModel",
          "state": {
            "_view_name": "LayoutView",
            "grid_template_rows": null,
            "right": null,
            "justify_content": null,
            "_view_module": "@jupyter-widgets/base",
            "overflow": null,
            "_model_module_version": "1.2.0",
            "_view_count": null,
            "flex_flow": null,
            "width": null,
            "min_width": null,
            "border": null,
            "align_items": null,
            "bottom": null,
            "_model_module": "@jupyter-widgets/base",
            "top": null,
            "grid_column": null,
            "overflow_y": null,
            "overflow_x": null,
            "grid_auto_flow": null,
            "grid_area": null,
            "grid_template_columns": null,
            "flex": null,
            "_model_name": "LayoutModel",
            "justify_items": null,
            "grid_row": null,
            "max_height": null,
            "align_content": null,
            "visibility": null,
            "align_self": null,
            "height": null,
            "min_height": null,
            "padding": null,
            "grid_auto_rows": null,
            "grid_gap": null,
            "max_width": null,
            "order": null,
            "_view_module_version": "1.2.0",
            "grid_template_areas": null,
            "object_position": null,
            "object_fit": null,
            "grid_auto_columns": null,
            "margin": null,
            "display": null,
            "left": null
          }
        },
        "ca701e6402f94f2e80d00fdbc2510fbf": {
          "model_module": "@jupyter-widgets/controls",
          "model_name": "FloatProgressModel",
          "state": {
            "_view_name": "ProgressView",
            "style": "IPY_MODEL_22026f57b9c642b2afa17fd2a94c0516",
            "_dom_classes": [],
            "description": "Downloading: 100%",
            "_model_name": "FloatProgressModel",
            "bar_style": "success",
            "max": 466062,
            "_view_module": "@jupyter-widgets/controls",
            "_model_module_version": "1.5.0",
            "value": 466062,
            "_view_count": null,
            "_view_module_version": "1.5.0",
            "orientation": "horizontal",
            "min": 0,
            "description_tooltip": null,
            "_model_module": "@jupyter-widgets/controls",
            "layout": "IPY_MODEL_011bbc9966624d68a3defc7e82fb28a7"
          }
        },
        "328a200537b44741bfcae5d8d4d3c820": {
          "model_module": "@jupyter-widgets/controls",
          "model_name": "HTMLModel",
          "state": {
            "_view_name": "HTMLView",
            "style": "IPY_MODEL_0cb34d8cf50a440a85c73ed317f371b9",
            "_dom_classes": [],
            "description": "",
            "_model_name": "HTMLModel",
            "placeholder": "​",
            "_view_module": "@jupyter-widgets/controls",
            "_model_module_version": "1.5.0",
            "value": " 466k/466k [00:21&lt;00:00, 22.0kB/s]",
            "_view_count": null,
            "_view_module_version": "1.5.0",
            "description_tooltip": null,
            "_model_module": "@jupyter-widgets/controls",
            "layout": "IPY_MODEL_5b1595240ebf424ab42927c610cdb202"
          }
        },
        "22026f57b9c642b2afa17fd2a94c0516": {
          "model_module": "@jupyter-widgets/controls",
          "model_name": "ProgressStyleModel",
          "state": {
            "_view_name": "StyleView",
            "_model_name": "ProgressStyleModel",
            "description_width": "initial",
            "_view_module": "@jupyter-widgets/base",
            "_model_module_version": "1.5.0",
            "_view_count": null,
            "_view_module_version": "1.2.0",
            "bar_color": null,
            "_model_module": "@jupyter-widgets/controls"
          }
        },
        "011bbc9966624d68a3defc7e82fb28a7": {
          "model_module": "@jupyter-widgets/base",
          "model_name": "LayoutModel",
          "state": {
            "_view_name": "LayoutView",
            "grid_template_rows": null,
            "right": null,
            "justify_content": null,
            "_view_module": "@jupyter-widgets/base",
            "overflow": null,
            "_model_module_version": "1.2.0",
            "_view_count": null,
            "flex_flow": null,
            "width": null,
            "min_width": null,
            "border": null,
            "align_items": null,
            "bottom": null,
            "_model_module": "@jupyter-widgets/base",
            "top": null,
            "grid_column": null,
            "overflow_y": null,
            "overflow_x": null,
            "grid_auto_flow": null,
            "grid_area": null,
            "grid_template_columns": null,
            "flex": null,
            "_model_name": "LayoutModel",
            "justify_items": null,
            "grid_row": null,
            "max_height": null,
            "align_content": null,
            "visibility": null,
            "align_self": null,
            "height": null,
            "min_height": null,
            "padding": null,
            "grid_auto_rows": null,
            "grid_gap": null,
            "max_width": null,
            "order": null,
            "_view_module_version": "1.2.0",
            "grid_template_areas": null,
            "object_position": null,
            "object_fit": null,
            "grid_auto_columns": null,
            "margin": null,
            "display": null,
            "left": null
          }
        },
        "0cb34d8cf50a440a85c73ed317f371b9": {
          "model_module": "@jupyter-widgets/controls",
          "model_name": "DescriptionStyleModel",
          "state": {
            "_view_name": "StyleView",
            "_model_name": "DescriptionStyleModel",
            "description_width": "",
            "_view_module": "@jupyter-widgets/base",
            "_model_module_version": "1.5.0",
            "_view_count": null,
            "_view_module_version": "1.2.0",
            "_model_module": "@jupyter-widgets/controls"
          }
        },
        "5b1595240ebf424ab42927c610cdb202": {
          "model_module": "@jupyter-widgets/base",
          "model_name": "LayoutModel",
          "state": {
            "_view_name": "LayoutView",
            "grid_template_rows": null,
            "right": null,
            "justify_content": null,
            "_view_module": "@jupyter-widgets/base",
            "overflow": null,
            "_model_module_version": "1.2.0",
            "_view_count": null,
            "flex_flow": null,
            "width": null,
            "min_width": null,
            "border": null,
            "align_items": null,
            "bottom": null,
            "_model_module": "@jupyter-widgets/base",
            "top": null,
            "grid_column": null,
            "overflow_y": null,
            "overflow_x": null,
            "grid_auto_flow": null,
            "grid_area": null,
            "grid_template_columns": null,
            "flex": null,
            "_model_name": "LayoutModel",
            "justify_items": null,
            "grid_row": null,
            "max_height": null,
            "align_content": null,
            "visibility": null,
            "align_self": null,
            "height": null,
            "min_height": null,
            "padding": null,
            "grid_auto_rows": null,
            "grid_gap": null,
            "max_width": null,
            "order": null,
            "_view_module_version": "1.2.0",
            "grid_template_areas": null,
            "object_position": null,
            "object_fit": null,
            "grid_auto_columns": null,
            "margin": null,
            "display": null,
            "left": null
          }
        },
        "faf996958a7044d2a48c9d180ca7f192": {
          "model_module": "@jupyter-widgets/controls",
          "model_name": "HBoxModel",
          "state": {
            "_view_name": "HBoxView",
            "_dom_classes": [],
            "_model_name": "HBoxModel",
            "_view_module": "@jupyter-widgets/controls",
            "_model_module_version": "1.5.0",
            "_view_count": null,
            "_view_module_version": "1.5.0",
            "box_style": "",
            "layout": "IPY_MODEL_3a5c416cc2bd41fcb7c164eab0983c10",
            "_model_module": "@jupyter-widgets/controls",
            "children": [
              "IPY_MODEL_8658e931a8c644bc9dd4108ae85a11ab",
              "IPY_MODEL_77432889e8cf49c6af51f97b2ccb8a1b"
            ]
          }
        },
        "3a5c416cc2bd41fcb7c164eab0983c10": {
          "model_module": "@jupyter-widgets/base",
          "model_name": "LayoutModel",
          "state": {
            "_view_name": "LayoutView",
            "grid_template_rows": null,
            "right": null,
            "justify_content": null,
            "_view_module": "@jupyter-widgets/base",
            "overflow": null,
            "_model_module_version": "1.2.0",
            "_view_count": null,
            "flex_flow": null,
            "width": null,
            "min_width": null,
            "border": null,
            "align_items": null,
            "bottom": null,
            "_model_module": "@jupyter-widgets/base",
            "top": null,
            "grid_column": null,
            "overflow_y": null,
            "overflow_x": null,
            "grid_auto_flow": null,
            "grid_area": null,
            "grid_template_columns": null,
            "flex": null,
            "_model_name": "LayoutModel",
            "justify_items": null,
            "grid_row": null,
            "max_height": null,
            "align_content": null,
            "visibility": null,
            "align_self": null,
            "height": null,
            "min_height": null,
            "padding": null,
            "grid_auto_rows": null,
            "grid_gap": null,
            "max_width": null,
            "order": null,
            "_view_module_version": "1.2.0",
            "grid_template_areas": null,
            "object_position": null,
            "object_fit": null,
            "grid_auto_columns": null,
            "margin": null,
            "display": null,
            "left": null
          }
        },
        "8658e931a8c644bc9dd4108ae85a11ab": {
          "model_module": "@jupyter-widgets/controls",
          "model_name": "FloatProgressModel",
          "state": {
            "_view_name": "ProgressView",
            "style": "IPY_MODEL_f7751ba08add4e658fa1dac610461018",
            "_dom_classes": [],
            "description": "Downloading: 100%",
            "_model_name": "FloatProgressModel",
            "bar_style": "success",
            "max": 442,
            "_view_module": "@jupyter-widgets/controls",
            "_model_module_version": "1.5.0",
            "value": 442,
            "_view_count": null,
            "_view_module_version": "1.5.0",
            "orientation": "horizontal",
            "min": 0,
            "description_tooltip": null,
            "_model_module": "@jupyter-widgets/controls",
            "layout": "IPY_MODEL_2007500565b54b52b6aa64b129310558"
          }
        },
        "77432889e8cf49c6af51f97b2ccb8a1b": {
          "model_module": "@jupyter-widgets/controls",
          "model_name": "HTMLModel",
          "state": {
            "_view_name": "HTMLView",
            "style": "IPY_MODEL_154fc7c0a5d9416fa15c6ac9c3c323fa",
            "_dom_classes": [],
            "description": "",
            "_model_name": "HTMLModel",
            "placeholder": "​",
            "_view_module": "@jupyter-widgets/controls",
            "_model_module_version": "1.5.0",
            "value": " 442/442 [00:00&lt;00:00, 2.33kB/s]",
            "_view_count": null,
            "_view_module_version": "1.5.0",
            "description_tooltip": null,
            "_model_module": "@jupyter-widgets/controls",
            "layout": "IPY_MODEL_d178413747b94796afee04933a953d85"
          }
        },
        "f7751ba08add4e658fa1dac610461018": {
          "model_module": "@jupyter-widgets/controls",
          "model_name": "ProgressStyleModel",
          "state": {
            "_view_name": "StyleView",
            "_model_name": "ProgressStyleModel",
            "description_width": "initial",
            "_view_module": "@jupyter-widgets/base",
            "_model_module_version": "1.5.0",
            "_view_count": null,
            "_view_module_version": "1.2.0",
            "bar_color": null,
            "_model_module": "@jupyter-widgets/controls"
          }
        },
        "2007500565b54b52b6aa64b129310558": {
          "model_module": "@jupyter-widgets/base",
          "model_name": "LayoutModel",
          "state": {
            "_view_name": "LayoutView",
            "grid_template_rows": null,
            "right": null,
            "justify_content": null,
            "_view_module": "@jupyter-widgets/base",
            "overflow": null,
            "_model_module_version": "1.2.0",
            "_view_count": null,
            "flex_flow": null,
            "width": null,
            "min_width": null,
            "border": null,
            "align_items": null,
            "bottom": null,
            "_model_module": "@jupyter-widgets/base",
            "top": null,
            "grid_column": null,
            "overflow_y": null,
            "overflow_x": null,
            "grid_auto_flow": null,
            "grid_area": null,
            "grid_template_columns": null,
            "flex": null,
            "_model_name": "LayoutModel",
            "justify_items": null,
            "grid_row": null,
            "max_height": null,
            "align_content": null,
            "visibility": null,
            "align_self": null,
            "height": null,
            "min_height": null,
            "padding": null,
            "grid_auto_rows": null,
            "grid_gap": null,
            "max_width": null,
            "order": null,
            "_view_module_version": "1.2.0",
            "grid_template_areas": null,
            "object_position": null,
            "object_fit": null,
            "grid_auto_columns": null,
            "margin": null,
            "display": null,
            "left": null
          }
        },
        "154fc7c0a5d9416fa15c6ac9c3c323fa": {
          "model_module": "@jupyter-widgets/controls",
          "model_name": "DescriptionStyleModel",
          "state": {
            "_view_name": "StyleView",
            "_model_name": "DescriptionStyleModel",
            "description_width": "",
            "_view_module": "@jupyter-widgets/base",
            "_model_module_version": "1.5.0",
            "_view_count": null,
            "_view_module_version": "1.2.0",
            "_model_module": "@jupyter-widgets/controls"
          }
        },
        "d178413747b94796afee04933a953d85": {
          "model_module": "@jupyter-widgets/base",
          "model_name": "LayoutModel",
          "state": {
            "_view_name": "LayoutView",
            "grid_template_rows": null,
            "right": null,
            "justify_content": null,
            "_view_module": "@jupyter-widgets/base",
            "overflow": null,
            "_model_module_version": "1.2.0",
            "_view_count": null,
            "flex_flow": null,
            "width": null,
            "min_width": null,
            "border": null,
            "align_items": null,
            "bottom": null,
            "_model_module": "@jupyter-widgets/base",
            "top": null,
            "grid_column": null,
            "overflow_y": null,
            "overflow_x": null,
            "grid_auto_flow": null,
            "grid_area": null,
            "grid_template_columns": null,
            "flex": null,
            "_model_name": "LayoutModel",
            "justify_items": null,
            "grid_row": null,
            "max_height": null,
            "align_content": null,
            "visibility": null,
            "align_self": null,
            "height": null,
            "min_height": null,
            "padding": null,
            "grid_auto_rows": null,
            "grid_gap": null,
            "max_width": null,
            "order": null,
            "_view_module_version": "1.2.0",
            "grid_template_areas": null,
            "object_position": null,
            "object_fit": null,
            "grid_auto_columns": null,
            "margin": null,
            "display": null,
            "left": null
          }
        },
        "1716e9c815ee441298c2c31eba7c4fb4": {
          "model_module": "@jupyter-widgets/controls",
          "model_name": "HBoxModel",
          "state": {
            "_view_name": "HBoxView",
            "_dom_classes": [],
            "_model_name": "HBoxModel",
            "_view_module": "@jupyter-widgets/controls",
            "_model_module_version": "1.5.0",
            "_view_count": null,
            "_view_module_version": "1.5.0",
            "box_style": "",
            "layout": "IPY_MODEL_8c17616aad494d708b3b60f77022dc54",
            "_model_module": "@jupyter-widgets/controls",
            "children": [
              "IPY_MODEL_b255712e7ebb47d7a126b013c4dadc28",
              "IPY_MODEL_9805a3d4112f4656870ffd0947f38ca2"
            ]
          }
        },
        "8c17616aad494d708b3b60f77022dc54": {
          "model_module": "@jupyter-widgets/base",
          "model_name": "LayoutModel",
          "state": {
            "_view_name": "LayoutView",
            "grid_template_rows": null,
            "right": null,
            "justify_content": null,
            "_view_module": "@jupyter-widgets/base",
            "overflow": null,
            "_model_module_version": "1.2.0",
            "_view_count": null,
            "flex_flow": null,
            "width": null,
            "min_width": null,
            "border": null,
            "align_items": null,
            "bottom": null,
            "_model_module": "@jupyter-widgets/base",
            "top": null,
            "grid_column": null,
            "overflow_y": null,
            "overflow_x": null,
            "grid_auto_flow": null,
            "grid_area": null,
            "grid_template_columns": null,
            "flex": null,
            "_model_name": "LayoutModel",
            "justify_items": null,
            "grid_row": null,
            "max_height": null,
            "align_content": null,
            "visibility": null,
            "align_self": null,
            "height": null,
            "min_height": null,
            "padding": null,
            "grid_auto_rows": null,
            "grid_gap": null,
            "max_width": null,
            "order": null,
            "_view_module_version": "1.2.0",
            "grid_template_areas": null,
            "object_position": null,
            "object_fit": null,
            "grid_auto_columns": null,
            "margin": null,
            "display": null,
            "left": null
          }
        },
        "b255712e7ebb47d7a126b013c4dadc28": {
          "model_module": "@jupyter-widgets/controls",
          "model_name": "FloatProgressModel",
          "state": {
            "_view_name": "ProgressView",
            "style": "IPY_MODEL_f4bf613cc5244b2e94f3bd5a699fc717",
            "_dom_classes": [],
            "description": "Downloading: 100%",
            "_model_name": "FloatProgressModel",
            "bar_style": "success",
            "max": 363423424,
            "_view_module": "@jupyter-widgets/controls",
            "_model_module_version": "1.5.0",
            "value": 363423424,
            "_view_count": null,
            "_view_module_version": "1.5.0",
            "orientation": "horizontal",
            "min": 0,
            "description_tooltip": null,
            "_model_module": "@jupyter-widgets/controls",
            "layout": "IPY_MODEL_474f6fa8c8e04a729a1a1f6e8c35fd2b"
          }
        },
        "9805a3d4112f4656870ffd0947f38ca2": {
          "model_module": "@jupyter-widgets/controls",
          "model_name": "HTMLModel",
          "state": {
            "_view_name": "HTMLView",
            "style": "IPY_MODEL_0935f60dac0d4f46bf0eacc843ea858f",
            "_dom_classes": [],
            "description": "",
            "_model_name": "HTMLModel",
            "placeholder": "​",
            "_view_module": "@jupyter-widgets/controls",
            "_model_module_version": "1.5.0",
            "value": " 363M/363M [00:07&lt;00:00, 49.7MB/s]",
            "_view_count": null,
            "_view_module_version": "1.5.0",
            "description_tooltip": null,
            "_model_module": "@jupyter-widgets/controls",
            "layout": "IPY_MODEL_c91836e9c76b4ddcb174d645235b98d7"
          }
        },
        "f4bf613cc5244b2e94f3bd5a699fc717": {
          "model_module": "@jupyter-widgets/controls",
          "model_name": "ProgressStyleModel",
          "state": {
            "_view_name": "StyleView",
            "_model_name": "ProgressStyleModel",
            "description_width": "initial",
            "_view_module": "@jupyter-widgets/base",
            "_model_module_version": "1.5.0",
            "_view_count": null,
            "_view_module_version": "1.2.0",
            "bar_color": null,
            "_model_module": "@jupyter-widgets/controls"
          }
        },
        "474f6fa8c8e04a729a1a1f6e8c35fd2b": {
          "model_module": "@jupyter-widgets/base",
          "model_name": "LayoutModel",
          "state": {
            "_view_name": "LayoutView",
            "grid_template_rows": null,
            "right": null,
            "justify_content": null,
            "_view_module": "@jupyter-widgets/base",
            "overflow": null,
            "_model_module_version": "1.2.0",
            "_view_count": null,
            "flex_flow": null,
            "width": null,
            "min_width": null,
            "border": null,
            "align_items": null,
            "bottom": null,
            "_model_module": "@jupyter-widgets/base",
            "top": null,
            "grid_column": null,
            "overflow_y": null,
            "overflow_x": null,
            "grid_auto_flow": null,
            "grid_area": null,
            "grid_template_columns": null,
            "flex": null,
            "_model_name": "LayoutModel",
            "justify_items": null,
            "grid_row": null,
            "max_height": null,
            "align_content": null,
            "visibility": null,
            "align_self": null,
            "height": null,
            "min_height": null,
            "padding": null,
            "grid_auto_rows": null,
            "grid_gap": null,
            "max_width": null,
            "order": null,
            "_view_module_version": "1.2.0",
            "grid_template_areas": null,
            "object_position": null,
            "object_fit": null,
            "grid_auto_columns": null,
            "margin": null,
            "display": null,
            "left": null
          }
        },
        "0935f60dac0d4f46bf0eacc843ea858f": {
          "model_module": "@jupyter-widgets/controls",
          "model_name": "DescriptionStyleModel",
          "state": {
            "_view_name": "StyleView",
            "_model_name": "DescriptionStyleModel",
            "description_width": "",
            "_view_module": "@jupyter-widgets/base",
            "_model_module_version": "1.5.0",
            "_view_count": null,
            "_view_module_version": "1.2.0",
            "_model_module": "@jupyter-widgets/controls"
          }
        },
        "c91836e9c76b4ddcb174d645235b98d7": {
          "model_module": "@jupyter-widgets/base",
          "model_name": "LayoutModel",
          "state": {
            "_view_name": "LayoutView",
            "grid_template_rows": null,
            "right": null,
            "justify_content": null,
            "_view_module": "@jupyter-widgets/base",
            "overflow": null,
            "_model_module_version": "1.2.0",
            "_view_count": null,
            "flex_flow": null,
            "width": null,
            "min_width": null,
            "border": null,
            "align_items": null,
            "bottom": null,
            "_model_module": "@jupyter-widgets/base",
            "top": null,
            "grid_column": null,
            "overflow_y": null,
            "overflow_x": null,
            "grid_auto_flow": null,
            "grid_area": null,
            "grid_template_columns": null,
            "flex": null,
            "_model_name": "LayoutModel",
            "justify_items": null,
            "grid_row": null,
            "max_height": null,
            "align_content": null,
            "visibility": null,
            "align_self": null,
            "height": null,
            "min_height": null,
            "padding": null,
            "grid_auto_rows": null,
            "grid_gap": null,
            "max_width": null,
            "order": null,
            "_view_module_version": "1.2.0",
            "grid_template_areas": null,
            "object_position": null,
            "object_fit": null,
            "grid_auto_columns": null,
            "margin": null,
            "display": null,
            "left": null
          }
        }
      }
    }
  },
  "cells": [
    {
      "cell_type": "code",
      "metadata": {
        "colab": {
          "base_uri": "https://localhost:8080/"
        },
        "id": "NdXZGnqA6Hh5",
        "outputId": "43f47cc2-d5c7-4879-9e03-7eacff16f4c5"
      },
      "source": [
        "from google.colab import drive\n",
        "import warnings\n",
        "warnings.filterwarnings('ignore')\n",
        "drive.mount('/content/drive')"
      ],
      "execution_count": null,
      "outputs": [
        {
          "output_type": "stream",
          "text": [
            "Mounted at /content/drive\n"
          ],
          "name": "stdout"
        }
      ]
    },
    {
      "cell_type": "code",
      "metadata": {
        "id": "NawmsmvT6TBb"
      },
      "source": [
        "abspath='/content/drive/MyDrive/capstone-netflix/'"
      ],
      "execution_count": null,
      "outputs": []
    },
    {
      "cell_type": "code",
      "metadata": {
        "colab": {
          "base_uri": "https://localhost:8080/"
        },
        "id": "UiAatdprD3tl",
        "outputId": "0679b53e-8629-4ae1-ef7f-601b06f0a60f"
      },
      "source": [
        "import tensorflow as tf\n",
        "import pandas as pd\n",
        "import re\n",
        "import numpy as np\n",
        "from tensorflow.keras.preprocessing.text import Tokenizer\n",
        "from tensorflow.keras.preprocessing.sequence import pad_sequences\n",
        "from sklearn.preprocessing import LabelEncoder\n",
        "from sklearn.model_selection import train_test_split\n",
        "import matplotlib.pyplot as plt\n",
        "import seaborn as sns\n",
        "import tensorflow_datasets as tfds\n",
        "from nltk.tokenize.toktok import ToktokTokenizer\n",
        "from nltk.tokenize import word_tokenize,sent_tokenize\n",
        "from nltk.corpus import stopwords \n",
        "from sklearn.feature_extraction.text import TfidfVectorizer\n",
        "from sklearn.preprocessing import LabelBinarizer\n",
        "from sklearn.linear_model import LogisticRegression,SGDClassifier\n",
        "from sklearn.metrics import classification_report,confusion_matrix,accuracy_score,log_loss\n",
        "from sklearn.feature_extraction.text import TfidfTransformer\n",
        "import nltk\n",
        "from nltk.tokenize import word_tokenize\n",
        "nltk.download('stopwords')\n",
        "import pickle\n",
        "from sklearn.svm import SVC \n",
        "from sklearn.feature_extraction.text import TfidfVectorizer\n",
        "nltk.download('punkt')\n",
        "from nltk.tokenize import word_tokenize\n",
        "from keras.layers import LSTM,Dense,Bidirectional,Input\n",
        "from keras.models import Model\n",
        "from tensorflow.keras.optimizers import Adam"
      ],
      "execution_count": null,
      "outputs": [
        {
          "output_type": "stream",
          "text": [
            "[nltk_data] Downloading package stopwords to /root/nltk_data...\n",
            "[nltk_data]   Unzipping corpora/stopwords.zip.\n",
            "[nltk_data] Downloading package punkt to /root/nltk_data...\n",
            "[nltk_data]   Unzipping tokenizers/punkt.zip.\n"
          ],
          "name": "stdout"
        }
      ]
    },
    {
      "cell_type": "code",
      "metadata": {
        "id": "pQxhbsTRDSXv"
      },
      "source": [
        "review = pd.read_csv(abspath+\"IMDB review.csv\")"
      ],
      "execution_count": null,
      "outputs": []
    },
    {
      "cell_type": "code",
      "metadata": {
        "colab": {
          "base_uri": "https://localhost:8080/",
          "height": 307
        },
        "id": "ILDoxlOBF2Yi",
        "outputId": "0e895f34-43a3-4854-ea46-9ce9ee6a8a5a"
      },
      "source": [
        "sns.set(style = \"darkgrid\" , font_scale = 1.2)\n",
        "sns.countplot(review.sentiment)"
      ],
      "execution_count": null,
      "outputs": [
        {
          "output_type": "execute_result",
          "data": {
            "text/plain": [
              "<matplotlib.axes._subplots.AxesSubplot at 0x7f6caacbc450>"
            ]
          },
          "metadata": {
            "tags": []
          },
          "execution_count": 5
        },
        {
          "output_type": "display_data",
          "data": {
            "image/png": "[encoded data removed]",
            "text/plain": [
              "<Figure size 432x288 with 1 Axes>"
            ]
          },
          "metadata": {
            "tags": []
          }
        }
      ]
    },
    {
      "cell_type": "code",
      "metadata": {
        "id": "E8AXIrmB5zOF"
      },
      "source": [
        "review.sentiment = [ 1 if each == \"positive\" else 0 for each in review.sentiment]"
      ],
      "execution_count": null,
      "outputs": []
    },
    {
      "cell_type": "code",
      "metadata": {
        "id": "aHl7y6iDDB2l"
      },
      "source": [
        "le = LabelEncoder()"
      ],
      "execution_count": null,
      "outputs": []
    },
    {
      "cell_type": "code",
      "metadata": {
        "id": "TjdMPKzReD3s"
      },
      "source": [
        "review['review'] = review['review'].apply(lambda x: re.sub('[,\\.!?:()\"]', '', x))\n",
        "review['review'] = review['review'].apply(lambda x: re.sub('[^a-zA-Z\"]', ' ', x))\n",
        "review['review'] = review['review'].apply(lambda x: x.lower())"
      ],
      "execution_count": null,
      "outputs": []
    },
    {
      "cell_type": "code",
      "metadata": {
        "id": "_PrxHZDvbwsw"
      },
      "source": [
        "#removing the stopwords\n",
        "stop_words = set(stopwords.words('english')) \n",
        "tokenizer=ToktokTokenizer()\n",
        "def remove_stopwords(corpus):\n",
        "    tokens = tokenizer.tokenize(corpus)\n",
        "    tokens = [token.strip() for token in tokens]\n",
        "    new_tokens = [token for token in tokens if token.lower() not in stop_words]\n",
        "    new_text = ' '.join(new_tokens)    \n",
        "    return new_text\n",
        "#Apply function on review column\n",
        "review['review']=review['review'].apply(remove_stopwords)"
      ],
      "execution_count": null,
      "outputs": []
    },
    {
      "cell_type": "code",
      "metadata": {
        "id": "6t8BIK4ld4nE"
      },
      "source": [
        "train_review,test_review,train_y,test_y  = train_test_split(review['review'].values,review['sentiment'].values,test_size = 0.2)\n",
        "train_y_tran = le.fit_transform(train_y)\n",
        "test_y_tran = le.fit_transform(test_y)"
      ],
      "execution_count": null,
      "outputs": []
    },
    {
      "cell_type": "code",
      "metadata": {
        "id": "1JlXI3uxD-Cj"
      },
      "source": [
        "tokenizer = Tokenizer(num_words=15000,oov_token='<OOV>')\n",
        "tokenizer.fit_on_texts(train_review)\n",
        "word_index = tokenizer.word_index"
      ],
      "execution_count": null,
      "outputs": []
    },
    {
      "cell_type": "code",
      "metadata": {
        "colab": {
          "base_uri": "https://localhost:8080/"
        },
        "id": "hsaiupoNdl0p",
        "outputId": "052f373a-a2de-46b2-91e0-b99fbd56e34f"
      },
      "source": [
        "train_sequence = tokenizer.texts_to_sequences(train_review)\n",
        "test_sequence = tokenizer.texts_to_sequences(test_review)\n",
        "train_pad_sequence = pad_sequences(train_sequence,maxlen = 200,truncating= 'post',padding = 'pre')\n",
        "test_pad_sequence = pad_sequences(test_sequence,maxlen = 200,truncating= 'post',padding = 'pre')\n",
        "print('Total Unique Words : {}'.format(len(word_index)))"
      ],
      "execution_count": null,
      "outputs": [
        {
          "output_type": "stream",
          "text": [
            "Total Unique Words : 110682\n"
          ],
          "name": "stdout"
        }
      ]
    },
    {
      "cell_type": "code",
      "metadata": {
        "id": "YEyEF1hRDftY"
      },
      "source": [
        "embedded_words = {}\n",
        "# with open('glove.6B.200d.txt') as file:\n",
        "with open('/content/drive/MyDrive/capstone-netflix/glove.6B.200d.txt') as file:\n",
        "    for line in file:\n",
        "        words, coeff = line.split(maxsplit=1)\n",
        "        coeff = np.array(coeff.split(),dtype = float)\n",
        "        embedded_words[words] = coeff"
      ],
      "execution_count": null,
      "outputs": []
    },
    {
      "cell_type": "code",
      "metadata": {
        "id": "mDvS9YpzFhGX"
      },
      "source": [
        "embedding_matrix = np.zeros((len(word_index) + 1,200))\n",
        "for word, i in word_index.items():\n",
        "    embedding_vector = embedded_words.get(word)\n",
        "    if embedding_vector is not None:\n",
        "        embedding_matrix[i] = embedding_vector"
      ],
      "execution_count": null,
      "outputs": []
    },
    {
      "cell_type": "code",
      "metadata": {
        "id": "84Zgzpd4FlWj"
      },
      "source": [
        "LSTM_model = tf.keras.Sequential([tf.keras.layers.Embedding(len(word_index) + 1,200,weights=[embedding_matrix],input_length=200,\n",
        "                            trainable=False),\n",
        "                             tf.keras.layers.Bidirectional(tf.keras.layers.LSTM(64)),\n",
        "                             tf.keras.layers.Dropout(0.3),\n",
        "                             tf.keras.layers.Dense(256,activation = 'relu',),\n",
        "                             tf.keras.layers.Dense(128,activation = 'relu'),\n",
        "                             tf.keras.layers.Dropout(0.3),\n",
        "                             tf.keras.layers.Dense(1,activation = tf.nn.sigmoid)])"
      ],
      "execution_count": null,
      "outputs": []
    },
    {
      "cell_type": "code",
      "metadata": {
        "colab": {
          "base_uri": "https://localhost:8080/"
        },
        "id": "cZn5HiONFrq6",
        "outputId": "2f6810da-746b-4c54-8813-4eef99a613b2"
      },
      "source": [
        "LSTM_model.summary()"
      ],
      "execution_count": null,
      "outputs": [
        {
          "output_type": "stream",
          "text": [
            "Model: \"sequential\"\n",
            "_________________________________________________________________\n",
            "Layer (type)                 Output Shape              Param #   \n",
            "=================================================================\n",
            "embedding (Embedding)        (None, 200, 200)          22136600  \n",
            "_________________________________________________________________\n",
            "bidirectional (Bidirectional (None, 128)               135680    \n",
            "_________________________________________________________________\n",
            "dropout (Dropout)            (None, 128)               0         \n",
            "_________________________________________________________________\n",
            "dense (Dense)                (None, 256)               33024     \n",
            "_________________________________________________________________\n",
            "dense_1 (Dense)              (None, 128)               32896     \n",
            "_________________________________________________________________\n",
            "dropout_1 (Dropout)          (None, 128)               0         \n",
            "_________________________________________________________________\n",
            "dense_2 (Dense)              (None, 1)                 129       \n",
            "=================================================================\n",
            "Total params: 22,338,329\n",
            "Trainable params: 201,729\n",
            "Non-trainable params: 22,136,600\n",
            "_________________________________________________________________\n"
          ],
          "name": "stdout"
        }
      ]
    },
    {
      "cell_type": "code",
      "metadata": {
        "colab": {
          "base_uri": "https://localhost:8080/"
        },
        "id": "vbPDkL_8Fv0a",
        "outputId": "964f2df8-e8ff-4ab4-8668-84fa77420b16"
      },
      "source": [
        "LSTM_model.compile(loss = tf.keras.losses.BinaryCrossentropy() , optimizer='Adam' , metrics = 'accuracy')\n",
        "LSTM_history = LSTM_model.fit(train_pad_sequence,train_y_tran,epochs = 6 ,validation_data=(test_pad_sequence,test_y_tran))"
      ],
      "execution_count": null,
      "outputs": [
        {
          "output_type": "stream",
          "text": [
            "Epoch 1/6\n",
            "1250/1250 [==============================] - 60s 21ms/step - loss: 0.5194 - accuracy: 0.7355 - val_loss: 0.3695 - val_accuracy: 0.8461\n",
            "Epoch 2/6\n",
            "1250/1250 [==============================] - 24s 20ms/step - loss: 0.3527 - accuracy: 0.8513 - val_loss: 0.3149 - val_accuracy: 0.8659\n",
            "Epoch 3/6\n",
            "1250/1250 [==============================] - 24s 19ms/step - loss: 0.2952 - accuracy: 0.8796 - val_loss: 0.2946 - val_accuracy: 0.8756\n",
            "Epoch 4/6\n",
            "1250/1250 [==============================] - 24s 19ms/step - loss: 0.2698 - accuracy: 0.8897 - val_loss: 0.2853 - val_accuracy: 0.8830\n",
            "Epoch 5/6\n",
            "1250/1250 [==============================] - 24s 19ms/step - loss: 0.2374 - accuracy: 0.9040 - val_loss: 0.2853 - val_accuracy: 0.8862\n",
            "Epoch 6/6\n",
            "1250/1250 [==============================] - 24s 19ms/step - loss: 0.2050 - accuracy: 0.9190 - val_loss: 0.3041 - val_accuracy: 0.8750\n"
          ],
          "name": "stdout"
        }
      ]
    },
    {
      "cell_type": "code",
      "metadata": {
        "colab": {
          "base_uri": "https://localhost:8080/",
          "height": 343
        },
        "id": "XqdCZaRjGEOo",
        "outputId": "2df9012b-4f41-4065-cfc3-7e81ed60ce6c"
      },
      "source": [
        "LSTM_acc = LSTM_history.history['accuracy']\n",
        "LSTM_val_acc = LSTM_history.history['val_accuracy']\n",
        "LSTM_loss = LSTM_history.history['loss']\n",
        "LSTM_val_loss = LSTM_history.history['val_loss']\n",
        "LSTM_epochs = range(len(LSTM_acc))\n",
        "\n",
        "plt.plot(LSTM_epochs, LSTM_acc, 'r', label='Training accuracy')\n",
        "plt.plot(LSTM_epochs, LSTM_val_acc, 'b', label='Validation accuracy')\n",
        "plt.title('Training and validation accuracy')\n",
        "plt.xlabel('epochs')\n",
        "plt.ylabel('Accuracy')\n",
        "plt.legend(loc=0)\n",
        "plt.figure()\n"
      ],
      "execution_count": null,
      "outputs": [
        {
          "output_type": "execute_result",
          "data": {
            "text/plain": [
              "<Figure size 432x288 with 0 Axes>"
            ]
          },
          "metadata": {
            "tags": []
          },
          "execution_count": 18
        },
        {
          "output_type": "display_data",
          "data": {
            "image/png": "[encoded data removed]",
            "text/plain": [
              "<Figure size 432x288 with 1 Axes>"
            ]
          },
          "metadata": {
            "tags": []
          }
        },
        {
          "output_type": "display_data",
          "data": {
            "text/plain": [
              "<Figure size 432x288 with 0 Axes>"
            ]
          },
          "metadata": {
            "tags": []
          }
        }
      ]
    },
    {
      "cell_type": "code",
      "metadata": {
        "colab": {
          "base_uri": "https://localhost:8080/",
          "height": 306
        },
        "id": "NPmNs3DsjPEl",
        "outputId": "3db5e475-547a-4255-c642-279983f05834"
      },
      "source": [
        "plt.plot(LSTM_epochs, LSTM_loss, 'r', label='Training loss')\n",
        "plt.plot(LSTM_epochs, LSTM_val_loss, 'b', label='Validation loss')\n",
        "plt.title('Training and validation loss')\n",
        "plt.xlabel('epochs')\n",
        "plt.ylabel('Loss')\n",
        "plt.legend(loc=0)\n",
        "plt.show()"
      ],
      "execution_count": null,
      "outputs": [
        {
          "output_type": "display_data",
          "data": {
            "image/png": "[encoded data removed]",
            "text/plain": [
              "<Figure size 432x288 with 1 Axes>"
            ]
          },
          "metadata": {
            "tags": []
          }
        }
      ]
    },
    {
      "cell_type": "code",
      "metadata": {
        "colab": {
          "base_uri": "https://localhost:8080/"
        },
        "id": "EC0eUOVjJFI3",
        "outputId": "3c90dc94-ddd2-458b-9b10-7e603193acaa"
      },
      "source": [
        "print('Training Accuracy: {}'.format(max(LSTM_acc)))\n",
        "print('Validation Accuracy: {}'.format(max(LSTM_val_acc)))"
      ],
      "execution_count": null,
      "outputs": [
        {
          "output_type": "stream",
          "text": [
            "Training Accuracy: 0.9160249829292297\n",
            "Validation Accuracy: 0.8862000107765198\n"
          ],
          "name": "stdout"
        }
      ]
    },
    {
      "cell_type": "code",
      "metadata": {
        "id": "v12ThBIsBILh"
      },
      "source": [
        "LSTM_pred = LSTM_model.predict(test_pad_sequence)\n",
        "LSTM_pred = np.round(LSTM_pred).astype(int)"
      ],
      "execution_count": null,
      "outputs": []
    },
    {
      "cell_type": "code",
      "metadata": {
        "id": "wh8hcn6RCSQX"
      },
      "source": [
        "LSTM_cm = confusion_matrix(le.fit_transform(test_y),le.fit_transform(LSTM_pred))"
      ],
      "execution_count": null,
      "outputs": []
    },
    {
      "cell_type": "code",
      "metadata": {
        "colab": {
          "base_uri": "https://localhost:8080/",
          "height": 633
        },
        "id": "44797Nzc5a_N",
        "outputId": "5c3969fe-ea24-4aa5-c578-9c3a4ae55eb1"
      },
      "source": [
        "plt.figure(figsize = (10,10))\n",
        "sns.heatmap(LSTM_cm,cmap= \"Blues\", linecolor = 'black' , linewidth = 1 , annot = True, fmt='' , xticklabels = ['Negative','Positive'] , yticklabels = ['Negative','Positive'])\n",
        "plt.xlabel(\"Predicted Reviews\")\n",
        "plt.ylabel(\"Actual Reviews\")"
      ],
      "execution_count": null,
      "outputs": [
        {
          "output_type": "execute_result",
          "data": {
            "text/plain": [
              "Text(63.5, 0.5, 'Actual Reviews')"
            ]
          },
          "metadata": {
            "tags": []
          },
          "execution_count": 23
        },
        {
          "output_type": "display_data",
          "data": {
            "image/png": "[encoded data removed]",
            "text/plain": [
              "<Figure size 720x720 with 2 Axes>"
            ]
          },
          "metadata": {
            "tags": []
          }
        }
      ]
    },
    {
      "cell_type": "markdown",
      "metadata": {
        "id": "0H6QIMMac1Rs"
      },
      "source": [
        "SVM"
      ]
    },
    {
      "cell_type": "code",
      "metadata": {
        "id": "HcyMZeBLu_U4"
      },
      "source": [
        "def feature_extraction(data):\n",
        "    tfv=TfidfVectorizer(sublinear_tf=True, stop_words = \"english\")\n",
        "    features=tfv.fit_transform(data)\n",
        "    pickle.dump(tfv.vocabulary_, open(\"svm_feature.pkl\", \"wb\"))\n",
        "    return features"
      ],
      "execution_count": null,
      "outputs": []
    },
    {
      "cell_type": "code",
      "metadata": {
        "id": "QUgk6Czv2M5G"
      },
      "source": [
        "def preprocess(sample):\n",
        "    sample.lower()\n",
        "    sample = re.sub('[,\\.!?:()\"]','',sample)\n",
        "    sample = re.sub('[^a-zA-Z\"]','', sample)\n",
        "    sample = re.sub('[\\s]+', ' ', sample)\n",
        "    tokens = word_tokenize(sample)\n",
        "    tokens = [w for w in tokens if not w in stop_words]\n",
        "    return \" \".join(tokens)"
      ],
      "execution_count": null,
      "outputs": []
    },
    {
      "cell_type": "code",
      "metadata": {
        "id": "aNs8GW-L2LE3"
      },
      "source": [
        "data = np.array(review.review)\n",
        "label = np.array(review.sentiment)\n",
        "features = feature_extraction(data)"
      ],
      "execution_count": null,
      "outputs": []
    },
    {
      "cell_type": "code",
      "metadata": {
        "id": "F7htFmM1vVfl"
      },
      "source": [
        "X_train, X_test, Y_train, Y_test = train_test_split(features, label, test_size = 0.20) "
      ],
      "execution_count": null,
      "outputs": []
    },
    {
      "cell_type": "code",
      "metadata": {
        "colab": {
          "base_uri": "https://localhost:8080/"
        },
        "id": "fzzhkLBJva_I",
        "outputId": "b06b7ae5-72ec-410c-da98-12c01cc323ed"
      },
      "source": [
        "svclassifier = SVC(kernel='linear')  \n",
        "svclassifier.fit(X_train, Y_train) "
      ],
      "execution_count": null,
      "outputs": [
        {
          "output_type": "execute_result",
          "data": {
            "text/plain": [
              "SVC(C=1.0, break_ties=False, cache_size=200, class_weight=None, coef0=0.0,\n",
              "    decision_function_shape='ovr', degree=3, gamma='scale', kernel='linear',\n",
              "    max_iter=-1, probability=False, random_state=None, shrinking=True,\n",
              "    tol=0.001, verbose=False)"
            ]
          },
          "metadata": {
            "tags": []
          },
          "execution_count": 14
        }
      ]
    },
    {
      "cell_type": "code",
      "metadata": {
        "colab": {
          "base_uri": "https://localhost:8080/"
        },
        "id": "McudlZL27xzG",
        "outputId": "0c63d0b2-f00a-4841-8b54-37188cad8379"
      },
      "source": [
        "svm_pred = svclassifier.predict(X_test)\n",
        "print('Validation Accuract is: ', accuracy_score(Y_test, svm_pred))\n",
        "print('Validation Loss is:', log_loss(Y_test, svm_pred))"
      ],
      "execution_count": null,
      "outputs": [
        {
          "output_type": "stream",
          "text": [
            "Validation Accuract is:  0.8958\n",
            "Validation Loss is: 3.5989862373227006\n"
          ],
          "name": "stdout"
        }
      ]
    },
    {
      "cell_type": "code",
      "metadata": {
        "id": "4DddEi498FRu"
      },
      "source": [
        "#save svm model\n",
        "filename = 'svm_model.sav'\n",
        "pickle.dump(svclassifier, open(filename, 'wb'))"
      ],
      "execution_count": null,
      "outputs": []
    },
    {
      "cell_type": "code",
      "metadata": {
        "id": "1LseL1cd8Z0n"
      },
      "source": [
        "loaded_model = pickle.load(open(filename, 'rb'))"
      ],
      "execution_count": null,
      "outputs": []
    },
    {
      "cell_type": "code",
      "metadata": {
        "id": "_7cFkIVA8iXe"
      },
      "source": [
        "# sample1 = \"3 Idiots is an evergreen Bollywood movie. The Aamir Khan starrer movie is a great mixture of several genre like comedy ,drama and romance.  I highly recommend this movie. The movie talks about several life experiences in humorous tones. Other great actors like Sharman Joshi aka 'Raju' , Madhavan aka 'Farhan' , Omi Vaidya as 'Silencer' , KKK as 'Piya' and Boman Irani as 'Virus' made this movie a huge success.\"\n",
        "sample1 = 'My friend showed me this movie a few months ago, And we watched the 2nd movie, I thought that Noah and Elles relationship was cute and romantic. Until I watched the first one and re-watched the second one, I dont get why Elle chose Noah at the end of the first movie and the second one, He controls Elle so much, I agree with Lees perspective about their relationship, Why would Noah not let any other guy be with Elle, When he hooks up with every girl in their high school. Now onto Elle, In the second movie she has a dance competition with new kid Marco, And when they finish they kiss, And Noah leaves the building because obviously he would be mad, And Elle tries having him forgive her, WHY WOULD HE YOU KISSED ANOTHER BOY AND YOU ARE IN A RELATIONSHIP. If I could get rid of The Kissing Booth 1 off Netflix, I would, Watch a better movie like Enola Holmes.'\n",
        "sample1 = preprocess(sample1)\n",
        "sample1 = np.array([sample1])"
      ],
      "execution_count": null,
      "outputs": []
    },
    {
      "cell_type": "code",
      "metadata": {
        "colab": {
          "base_uri": "https://localhost:8080/"
        },
        "id": "9Jb_gZ3dM4BL",
        "outputId": "38050837-59d3-4ae6-de8b-ff34f0fb5e0b"
      },
      "source": [
        "transformer = TfidfTransformer()\n",
        "tfv_loaded = TfidfVectorizer(sublinear_tf=True, stop_words = \"english\", vocabulary=pickle.load(open(\"svm_feature.pkl\", \"rb\")))\n",
        "text = transformer.fit_transform(tfv_loaded.fit_transform(sample1))\n",
        "polarity = loaded_model.predict(text)\n",
        "print(polarity)"
      ],
      "execution_count": null,
      "outputs": [
        {
          "output_type": "stream",
          "text": [
            "[0]\n"
          ],
          "name": "stdout"
        }
      ]
    },
    {
      "cell_type": "code",
      "metadata": {
        "colab": {
          "background_save": true
        },
        "id": "69vRH5QgKtiR"
      },
      "source": [
        "SVM_history = svclassifier.fit(X_train,Y_train)"
      ],
      "execution_count": null,
      "outputs": []
    },
    {
      "cell_type": "code",
      "metadata": {
        "id": "r77qiR4rKfb_"
      },
      "source": [
        "SVM_acc = SVM_history.history['accuracy']\n",
        "SVM_val_acc = SVM_history.history['val_accuracy']\n",
        "SVM_loss = SVM_history.history['loss']\n",
        "SVM_val_loss = SVM_history.history['val_loss']\n",
        "SVM_epochs = range(len(SVM_acc))\n",
        "\n",
        "plt.plot(SVM_epochs, SVM_acc, 'r', label='Training accuracy')\n",
        "plt.plot(SVM_epochs, SVM_val_acc, 'b', label='Validation accuracy')\n",
        "plt.title('Training and validation accuracy')\n",
        "plt.xlabel('epochs')\n",
        "plt.ylabel('Accuracy')\n",
        "plt.legend(loc=0)\n",
        "plt.figure()"
      ],
      "execution_count": null,
      "outputs": []
    },
    {
      "cell_type": "code",
      "metadata": {
        "id": "s-oGQaWn-_0Y"
      },
      "source": [
        "svm_cm = confusion_matrix(le.fit_transform(Y_test),le.fit_transform(svm_pred))"
      ],
      "execution_count": null,
      "outputs": []
    },
    {
      "cell_type": "code",
      "metadata": {
        "colab": {
          "base_uri": "https://localhost:8080/",
          "height": 633
        },
        "id": "-nlZ7Zl6_ARD",
        "outputId": "d4fe3fd2-6093-4870-dd43-b05b919874cf"
      },
      "source": [
        "plt.figure(figsize = (10,10))\n",
        "sns.heatmap(svm_cm,cmap= \"Blues\", linecolor = 'black' , linewidth = 1 , annot = True, fmt='' , xticklabels = ['Bad Reviews','Good Reviews'] , yticklabels = ['Bad Reviews','Good Reviews'])\n",
        "plt.xlabel(\"Predicted\")\n",
        "plt.ylabel(\"Actual\")"
      ],
      "execution_count": null,
      "outputs": [
        {
          "output_type": "execute_result",
          "data": {
            "text/plain": [
              "Text(63.5, 0.5, 'Actual')"
            ]
          },
          "metadata": {
            "tags": []
          },
          "execution_count": 47
        },
        {
          "output_type": "display_data",
          "data": {
            "image/png": "[encoded data removed]",
            "text/plain": [
              "<Figure size 720x720 with 2 Axes>"
            ]
          },
          "metadata": {
            "tags": []
          }
        }
      ]
    },
    {
      "cell_type": "markdown",
      "metadata": {
        "id": "AG_meP2FAFCU"
      },
      "source": [
        "BERT"
      ]
    },
    {
      "cell_type": "code",
      "metadata": {
        "colab": {
          "base_uri": "https://localhost:8080/",
          "height": 787,
          "referenced_widgets": [
            "16448a122ccc47209fcf50e04ee3c98f",
            "23d7bd3d35fd47ea9850a6c970376d71",
            "99a30c840f724d9b99660fc71a817c27",
            "fbb1e0da246049249d91ccdffe5003c2",
            "c7c03e5d266d4ec9a7c0c4c9ee5bfaf6",
            "d161e754a2bf4f63b1404b476b23d272",
            "90c0b5f66c1740478d0c176d50aeb68a",
            "59663a4a850e4ed3be26db5aabd73550",
            "cb35d3bacc29466e8ab34e4103fb42f6",
            "77c667a744e740ee9b8b8c70caf5011f",
            "f95476bcd2c044f8bd4757232110a90a",
            "5fa9d486f1a44222bfe564b0270c83c1",
            "29645e2edd684b3c81e2597e39f3e6cb",
            "22d07b3e63cd48efba691ce2746a3ef1",
            "51462e1c02a94b8cbdef799be8697151",
            "8df56ef257274853b87608eb5b071edf",
            "e825e65dfdff4a41a31026d961983eec",
            "1d6b52ba541249cca3ed45b585ab1d0f",
            "ca701e6402f94f2e80d00fdbc2510fbf",
            "328a200537b44741bfcae5d8d4d3c820",
            "22026f57b9c642b2afa17fd2a94c0516",
            "011bbc9966624d68a3defc7e82fb28a7",
            "0cb34d8cf50a440a85c73ed317f371b9",
            "5b1595240ebf424ab42927c610cdb202"
          ]
        },
        "id": "9c_KuDu8AF6h",
        "outputId": "2910c500-b826-45dd-8f6c-8946d99dc8cd"
      },
      "source": [
        "!pip install transformers sentencepiece\n",
        "!pip install tokenizers\n",
        "from tokenizers import BertWordPieceTokenizer\n",
        "import transformers\n",
        "tokenizer = transformers.DistilBertTokenizer.from_pretrained('distilbert-base-uncased' , lower = True)\n",
        "# Save the loaded tokenizer locally\n",
        "tokenizer.save_pretrained('.')\n",
        "# Reload it with the huggingface tokenizers library\n",
        "bert_tokenizer = BertWordPieceTokenizer('vocab.txt', lowercase=True)\n",
        "bert_tokenizer"
      ],
      "execution_count": null,
      "outputs": [
        {
          "output_type": "stream",
          "text": [
            "Collecting transformers\n",
            "\u001b[?25l  Downloading https://files.pythonhosted.org/packages/d8/b2/57495b5309f09fa501866e225c84532d1fd89536ea62406b2181933fb418/transformers-4.5.1-py3-none-any.whl (2.1MB)\n",
            "\u001b[K     |████████████████████████████████| 2.1MB 15.7MB/s \n",
            "\u001b[?25hCollecting sentencepiece\n",
            "\u001b[?25l  Downloading https://files.pythonhosted.org/packages/f5/99/e0808cb947ba10f575839c43e8fafc9cc44e4a7a2c8f79c60db48220a577/sentencepiece-0.1.95-cp37-cp37m-manylinux2014_x86_64.whl (1.2MB)\n",
            "\u001b[K     |████████████████████████████████| 1.2MB 57.1MB/s \n",
            "\u001b[?25hCollecting sacremoses\n",
            "\u001b[?25l  Downloading https://files.pythonhosted.org/packages/75/ee/67241dc87f266093c533a2d4d3d69438e57d7a90abb216fa076e7d475d4a/sacremoses-0.0.45-py3-none-any.whl (895kB)\n",
            "\u001b[K     |████████████████████████████████| 901kB 50.6MB/s \n",
            "\u001b[?25hRequirement already satisfied: importlib-metadata; python_version < \"3.8\" in /usr/local/lib/python3.7/dist-packages (from transformers) (3.10.1)\n",
            "Requirement already satisfied: packaging in /usr/local/lib/python3.7/dist-packages (from transformers) (20.9)\n",
            "Requirement already satisfied: numpy>=1.17 in /usr/local/lib/python3.7/dist-packages (from transformers) (1.19.5)\n",
            "Requirement already satisfied: regex!=2019.12.17 in /usr/local/lib/python3.7/dist-packages (from transformers) (2019.12.20)\n",
            "Requirement already satisfied: tqdm>=4.27 in /usr/local/lib/python3.7/dist-packages (from transformers) (4.41.1)\n",
            "Requirement already satisfied: requests in /usr/local/lib/python3.7/dist-packages (from transformers) (2.23.0)\n",
            "Requirement already satisfied: filelock in /usr/local/lib/python3.7/dist-packages (from transformers) (3.0.12)\n",
            "Collecting tokenizers<0.11,>=0.10.1\n",
            "\u001b[?25l  Downloading https://files.pythonhosted.org/packages/ae/04/5b870f26a858552025a62f1649c20d29d2672c02ff3c3fb4c688ca46467a/tokenizers-0.10.2-cp37-cp37m-manylinux2010_x86_64.whl (3.3MB)\n",
            "\u001b[K     |████████████████████████████████| 3.3MB 55.8MB/s \n",
            "\u001b[?25hRequirement already satisfied: click in /usr/local/lib/python3.7/dist-packages (from sacremoses->transformers) (7.1.2)\n",
            "Requirement already satisfied: six in /usr/local/lib/python3.7/dist-packages (from sacremoses->transformers) (1.15.0)\n",
            "Requirement already satisfied: joblib in /usr/local/lib/python3.7/dist-packages (from sacremoses->transformers) (1.0.1)\n",
            "Requirement already satisfied: zipp>=0.5 in /usr/local/lib/python3.7/dist-packages (from importlib-metadata; python_version < \"3.8\"->transformers) (3.4.1)\n",
            "Requirement already satisfied: typing-extensions>=3.6.4; python_version < \"3.8\" in /usr/local/lib/python3.7/dist-packages (from importlib-metadata; python_version < \"3.8\"->transformers) (3.7.4.3)\n",
            "Requirement already satisfied: pyparsing>=2.0.2 in /usr/local/lib/python3.7/dist-packages (from packaging->transformers) (2.4.7)\n",
            "Requirement already satisfied: idna<3,>=2.5 in /usr/local/lib/python3.7/dist-packages (from requests->transformers) (2.10)\n",
            "Requirement already satisfied: chardet<4,>=3.0.2 in /usr/local/lib/python3.7/dist-packages (from requests->transformers) (3.0.4)\n",
            "Requirement already satisfied: urllib3!=1.25.0,!=1.25.1,<1.26,>=1.21.1 in /usr/local/lib/python3.7/dist-packages (from requests->transformers) (1.24.3)\n",
            "Requirement already satisfied: certifi>=2017.4.17 in /usr/local/lib/python3.7/dist-packages (from requests->transformers) (2020.12.5)\n",
            "Installing collected packages: sacremoses, tokenizers, transformers, sentencepiece\n",
            "Successfully installed sacremoses-0.0.45 sentencepiece-0.1.95 tokenizers-0.10.2 transformers-4.5.1\n",
            "Requirement already satisfied: tokenizers in /usr/local/lib/python3.7/dist-packages (0.10.2)\n"
          ],
          "name": "stdout"
        },
        {
          "output_type": "display_data",
          "data": {
            "application/vnd.jupyter.widget-view+json": {
              "model_id": "16448a122ccc47209fcf50e04ee3c98f",
              "version_minor": 0,
              "version_major": 2
            },
            "text/plain": [
              "HBox(children=(FloatProgress(value=0.0, description='Downloading', max=231508.0, style=ProgressStyle(descripti…"
            ]
          },
          "metadata": {
            "tags": []
          }
        },
        {
          "output_type": "stream",
          "text": [
            "\n"
          ],
          "name": "stdout"
        },
        {
          "output_type": "display_data",
          "data": {
            "application/vnd.jupyter.widget-view+json": {
              "model_id": "cb35d3bacc29466e8ab34e4103fb42f6",
              "version_minor": 0,
              "version_major": 2
            },
            "text/plain": [
              "HBox(children=(FloatProgress(value=0.0, description='Downloading', max=28.0, style=ProgressStyle(description_w…"
            ]
          },
          "metadata": {
            "tags": []
          }
        },
        {
          "output_type": "stream",
          "text": [
            "\n"
          ],
          "name": "stdout"
        },
        {
          "output_type": "display_data",
          "data": {
            "application/vnd.jupyter.widget-view+json": {
              "model_id": "e825e65dfdff4a41a31026d961983eec",
              "version_minor": 0,
              "version_major": 2
            },
            "text/plain": [
              "HBox(children=(FloatProgress(value=0.0, description='Downloading', max=466062.0, style=ProgressStyle(descripti…"
            ]
          },
          "metadata": {
            "tags": []
          }
        },
        {
          "output_type": "stream",
          "text": [
            "\n"
          ],
          "name": "stdout"
        },
        {
          "output_type": "execute_result",
          "data": {
            "text/plain": [
              "Tokenizer(vocabulary_size=30522, model=BertWordPiece, unk_token=[UNK], sep_token=[SEP], cls_token=[CLS], pad_token=[PAD], mask_token=[MASK], clean_text=True, handle_chinese_chars=True, strip_accents=None, lowercase=True, wordpieces_prefix=##)"
            ]
          },
          "metadata": {
            "tags": []
          },
          "execution_count": 1
        }
      ]
    },
    {
      "cell_type": "code",
      "metadata": {
        "id": "qDOlTkBcA-Bb"
      },
      "source": [
        "def fast_encode(texts, tokenizer):\n",
        "\n",
        "    tokenizer.enable_truncation(max_length=400)\n",
        "    tokenizer.enable_padding()\n",
        "    all_ids = []\n",
        "    \n",
        "    for i in range(0, len(texts), 256):\n",
        "        text_chunk = texts[i:i+256].tolist()\n",
        "        encs = tokenizer.encode_batch(text_chunk)\n",
        "        all_ids.extend([enc.ids for enc in encs])\n",
        "    \n",
        "    return np.array(all_ids)"
      ],
      "execution_count": null,
      "outputs": []
    },
    {
      "cell_type": "code",
      "metadata": {
        "id": "3uPD43xSIWE0"
      },
      "source": [
        "review = pd.read_csv(abspath+\"IMDB review.csv\")\n",
        "review.sentiment = [ 1 if each == \"positive\" else 0 for each in review.sentiment]\n",
        "train_review,test_review,train_y,test_y  = train_test_split(review['review'],review['sentiment'],test_size = 0.2)"
      ],
      "execution_count": null,
      "outputs": []
    },
    {
      "cell_type": "code",
      "metadata": {
        "id": "yvlMytiZEKQU"
      },
      "source": [
        "x_train = fast_encode(train_review.values, bert_tokenizer)\n",
        "x_test = fast_encode(test_review.values, bert_tokenizer)"
      ],
      "execution_count": null,
      "outputs": []
    },
    {
      "cell_type": "code",
      "metadata": {
        "id": "oLEyD2I2KQDn"
      },
      "source": [
        "def buildmodel(transformer):\n",
        "    \n",
        "    id = Input(shape=(400,), dtype=tf.int32, name=\"id\")\n",
        "    output = transformer(id)[0]\n",
        "    token = output[:, 0, :]\n",
        "    out = Dense(1, activation='sigmoid')(token)\n",
        "    \n",
        "    model = Model(inputs=id, outputs=out)\n",
        "    model.compile(Adam(lr=2e-5), loss='binary_crossentropy', metrics=['accuracy'])\n",
        "    \n",
        "    return model"
      ],
      "execution_count": null,
      "outputs": []
    },
    {
      "cell_type": "code",
      "metadata": {
        "colab": {
          "base_uri": "https://localhost:8080/",
          "height": 228,
          "referenced_widgets": [
            "faf996958a7044d2a48c9d180ca7f192",
            "3a5c416cc2bd41fcb7c164eab0983c10",
            "8658e931a8c644bc9dd4108ae85a11ab",
            "77432889e8cf49c6af51f97b2ccb8a1b",
            "f7751ba08add4e658fa1dac610461018",
            "2007500565b54b52b6aa64b129310558",
            "154fc7c0a5d9416fa15c6ac9c3c323fa",
            "d178413747b94796afee04933a953d85",
            "1716e9c815ee441298c2c31eba7c4fb4",
            "8c17616aad494d708b3b60f77022dc54",
            "b255712e7ebb47d7a126b013c4dadc28",
            "9805a3d4112f4656870ffd0947f38ca2",
            "f4bf613cc5244b2e94f3bd5a699fc717",
            "474f6fa8c8e04a729a1a1f6e8c35fd2b",
            "0935f60dac0d4f46bf0eacc843ea858f",
            "c91836e9c76b4ddcb174d645235b98d7"
          ]
        },
        "id": "ZViZnDOoKjoZ",
        "outputId": "97987303-ec6b-41e5-ff2e-02f6dc17b916"
      },
      "source": [
        "bert1 = transformers.TFDistilBertModel.from_pretrained('distilbert-base-uncased')"
      ],
      "execution_count": null,
      "outputs": [
        {
          "output_type": "display_data",
          "data": {
            "application/vnd.jupyter.widget-view+json": {
              "model_id": "faf996958a7044d2a48c9d180ca7f192",
              "version_minor": 0,
              "version_major": 2
            },
            "text/plain": [
              "HBox(children=(FloatProgress(value=0.0, description='Downloading', max=442.0, style=ProgressStyle(description_…"
            ]
          },
          "metadata": {
            "tags": []
          }
        },
        {
          "output_type": "stream",
          "text": [
            "\n"
          ],
          "name": "stdout"
        },
        {
          "output_type": "display_data",
          "data": {
            "application/vnd.jupyter.widget-view+json": {
              "model_id": "1716e9c815ee441298c2c31eba7c4fb4",
              "version_minor": 0,
              "version_major": 2
            },
            "text/plain": [
              "HBox(children=(FloatProgress(value=0.0, description='Downloading', max=363423424.0, style=ProgressStyle(descri…"
            ]
          },
          "metadata": {
            "tags": []
          }
        },
        {
          "output_type": "stream",
          "text": [
            "\n"
          ],
          "name": "stdout"
        },
        {
          "output_type": "stream",
          "text": [
            "Some layers from the model checkpoint at distilbert-base-uncased were not used when initializing TFDistilBertModel: ['vocab_transform', 'vocab_projector', 'activation_13', 'vocab_layer_norm']\n",
            "- This IS expected if you are initializing TFDistilBertModel from the checkpoint of a model trained on another task or with another architecture (e.g. initializing a BertForSequenceClassification model from a BertForPreTraining model).\n",
            "- This IS NOT expected if you are initializing TFDistilBertModel from the checkpoint of a model that you expect to be exactly identical (initializing a BertForSequenceClassification model from a BertForSequenceClassification model).\n",
            "All the layers of TFDistilBertModel were initialized from the model checkpoint at distilbert-base-uncased.\n",
            "If your task is similar to the task the model of the checkpoint was trained on, you can already use TFDistilBertModel for predictions without further training.\n"
          ],
          "name": "stderr"
        }
      ]
    },
    {
      "cell_type": "code",
      "metadata": {
        "colab": {
          "base_uri": "https://localhost:8080/"
        },
        "id": "5GCfKiytKna_",
        "outputId": "5d7fc403-dfe2-43da-c78e-963811132946"
      },
      "source": [
        "bert = buildmodel(bert1)\n",
        "bert.summary()"
      ],
      "execution_count": null,
      "outputs": [
        {
          "output_type": "stream",
          "text": [
            "WARNING:tensorflow:The parameters `output_attentions`, `output_hidden_states` and `use_cache` cannot be updated when calling a model.They have to be set to True/False in the config object (i.e.: `config=XConfig.from_pretrained('name', output_attentions=True)`).\n",
            "WARNING:tensorflow:AutoGraph could not transform <bound method Socket.send of <zmq.sugar.socket.Socket object at 0x7fbd1ad6fd00>> and will run it as-is.\n",
            "Please report this to the TensorFlow team. When filing the bug, set the verbosity to 10 (on Linux, `export AUTOGRAPH_VERBOSITY=10`) and attach the full output.\n",
            "Cause: module, class, method, function, traceback, frame, or code object was expected, got cython_function_or_method\n",
            "To silence this warning, decorate the function with @tf.autograph.experimental.do_not_convert\n",
            "WARNING: AutoGraph could not transform <bound method Socket.send of <zmq.sugar.socket.Socket object at 0x7fbd1ad6fd00>> and will run it as-is.\n",
            "Please report this to the TensorFlow team. When filing the bug, set the verbosity to 10 (on Linux, `export AUTOGRAPH_VERBOSITY=10`) and attach the full output.\n",
            "Cause: module, class, method, function, traceback, frame, or code object was expected, got cython_function_or_method\n",
            "To silence this warning, decorate the function with @tf.autograph.experimental.do_not_convert\n",
            "WARNING:tensorflow:AutoGraph could not transform <function wrap at 0x7fbd3661cd40> and will run it as-is.\n",
            "Cause: while/else statement not yet supported\n",
            "To silence this warning, decorate the function with @tf.autograph.experimental.do_not_convert\n",
            "WARNING: AutoGraph could not transform <function wrap at 0x7fbd3661cd40> and will run it as-is.\n",
            "Cause: while/else statement not yet supported\n",
            "To silence this warning, decorate the function with @tf.autograph.experimental.do_not_convert\n",
            "WARNING:tensorflow:The parameter `return_dict` cannot be set in graph mode and will always be set to `True`.\n",
            "Model: \"model\"\n",
            "_________________________________________________________________\n",
            "Layer (type)                 Output Shape              Param #   \n",
            "=================================================================\n",
            "id (InputLayer)              [(None, 400)]             0         \n",
            "_________________________________________________________________\n",
            "tf_distil_bert_model (TFDist TFBaseModelOutput(last_hi 66362880  \n",
            "_________________________________________________________________\n",
            "tf.__operators__.getitem (Sl (None, 768)               0         \n",
            "_________________________________________________________________\n",
            "dense (Dense)                (None, 1)                 769       \n",
            "=================================================================\n",
            "Total params: 66,363,649\n",
            "Trainable params: 66,363,649\n",
            "Non-trainable params: 0\n",
            "_________________________________________________________________\n"
          ],
          "name": "stdout"
        }
      ]
    },
    {
      "cell_type": "code",
      "metadata": {
        "colab": {
          "base_uri": "https://localhost:8080/"
        },
        "id": "vN3Hc4DpK_ss",
        "outputId": "843d84db-6694-4254-9571-d2d35b510d33"
      },
      "source": [
        "history = bert.fit(x_train,train_y,batch_size = 32 ,validation_data=(x_test,test_y),epochs = 3)"
      ],
      "execution_count": null,
      "outputs": [
        {
          "output_type": "stream",
          "text": [
            "Epoch 1/3\n",
            "WARNING:tensorflow:The parameters `output_attentions`, `output_hidden_states` and `use_cache` cannot be updated when calling a model.They have to be set to True/False in the config object (i.e.: `config=XConfig.from_pretrained('name', output_attentions=True)`).\n",
            "WARNING:tensorflow:The parameter `return_dict` cannot be set in graph mode and will always be set to `True`.\n",
            "WARNING:tensorflow:The parameters `output_attentions`, `output_hidden_states` and `use_cache` cannot be updated when calling a model.They have to be set to True/False in the config object (i.e.: `config=XConfig.from_pretrained('name', output_attentions=True)`).\n",
            "WARNING:tensorflow:The parameter `return_dict` cannot be set in graph mode and will always be set to `True`.\n",
            "1250/1250 [==============================] - ETA: 0s - loss: 0.3101 - accuracy: 0.8558WARNING:tensorflow:The parameters `output_attentions`, `output_hidden_states` and `use_cache` cannot be updated when calling a model.They have to be set to True/False in the config object (i.e.: `config=XConfig.from_pretrained('name', output_attentions=True)`).\n",
            "WARNING:tensorflow:The parameter `return_dict` cannot be set in graph mode and will always be set to `True`.\n",
            "1250/1250 [==============================] - 1844s 1s/step - loss: 0.3101 - accuracy: 0.8558 - val_loss: 0.2018 - val_accuracy: 0.9210\n",
            "Epoch 2/3\n",
            "1250/1250 [==============================] - 1839s 1s/step - loss: 0.1462 - accuracy: 0.9451 - val_loss: 0.1956 - val_accuracy: 0.9270\n",
            "Epoch 3/3\n",
            "1250/1250 [==============================] - 1841s 1s/step - loss: 0.0812 - accuracy: 0.9715 - val_loss: 0.2117 - val_accuracy: 0.9279\n"
          ],
          "name": "stdout"
        }
      ]
    },
    {
      "cell_type": "code",
      "metadata": {
        "colab": {
          "base_uri": "https://localhost:8080/"
        },
        "id": "iNRinjAGdfSZ",
        "outputId": "e46809fa-b684-47f8-a753-bd9fedcf5150"
      },
      "source": [
        "print(\"Accuracy of the model on Testing Data is \" , bert.evaluate(x_test,test_y)[1]*100 , \"%\")"
      ],
      "execution_count": null,
      "outputs": [
        {
          "output_type": "stream",
          "text": [
            "313/313 [==============================] - 143s 457ms/step - loss: 0.2117 - accuracy: 0.9279\n",
            "Accuracy of the model on Testing Data is  92.79000163078308 %\n"
          ],
          "name": "stdout"
        }
      ]
    },
    {
      "cell_type": "code",
      "metadata": {
        "colab": {
          "base_uri": "https://localhost:8080/",
          "height": 317
        },
        "id": "0Vbkp1XC2yQA",
        "outputId": "da3fa8f4-8a10-4963-ec31-94cb073340f8"
      },
      "source": [
        "bert_epochs = [i for i in range(3)]\n",
        "bert_train_acc = history.history['accuracy']\n",
        "bert_train_loss = history.history['loss']\n",
        "bert_val_acc = history.history['val_accuracy']\n",
        "bert_val_loss = history.history['val_loss']\n",
        "\n",
        "bert_acc = history.history['accuracy']\n",
        "bert_val_acc = history.history['val_accuracy']\n",
        "bert_loss = history.history['loss']\n",
        "bert_val_loss = history.history['val_loss']\n",
        "bert_epochs = range(len(bert_acc))\n",
        "\n",
        "plt.plot(bert_epochs, bert_acc, 'r', label='Training accuracy')\n",
        "plt.plot(bert_epochs, bert_val_acc, 'b', label='Validation accuracy')\n",
        "plt.title('Training and validation accuracy')\n",
        "plt.legend(loc=0)\n",
        "plt.figure()"
      ],
      "execution_count": null,
      "outputs": [
        {
          "output_type": "execute_result",
          "data": {
            "text/plain": [
              "<Figure size 432x288 with 0 Axes>"
            ]
          },
          "metadata": {
            "tags": []
          },
          "execution_count": 31
        },
        {
          "output_type": "display_data",
          "data": {
            "image/png": "[encoded data removed]",
            "text/plain": [
              "<Figure size 432x288 with 1 Axes>"
            ]
          },
          "metadata": {
            "tags": []
          }
        },
        {
          "output_type": "display_data",
          "data": {
            "text/plain": [
              "<Figure size 432x288 with 0 Axes>"
            ]
          },
          "metadata": {
            "tags": []
          }
        }
      ]
    },
    {
      "cell_type": "code",
      "metadata": {
        "colab": {
          "base_uri": "https://localhost:8080/",
          "height": 281
        },
        "id": "1QtiUSxo3Rqc",
        "outputId": "60197af9-d174-410f-8889-bf732ea0264c"
      },
      "source": [
        "plt.plot(bert_epochs, bert_loss, 'r', label='Training loss')\n",
        "plt.plot(bert_epochs, bert_val_loss, 'b', label='Validation loss')\n",
        "plt.title('Training and validation loss')\n",
        "plt.legend(loc=0)\n",
        "\n",
        "plt.show()"
      ],
      "execution_count": null,
      "outputs": [
        {
          "output_type": "display_data",
          "data": {
            "image/png": "[encoded data removed]",
            "text/plain": [
              "<Figure size 432x288 with 1 Axes>"
            ]
          },
          "metadata": {
            "tags": []
          }
        }
      ]
    },
    {
      "cell_type": "code",
      "metadata": {
        "id": "b9bLNTjQdtSt"
      },
      "source": [
        "bert_pred_ori = bert.predict(x_test)\n",
        "bert_pred = np.round(bert_pred_ori).astype(int)\n",
        "bert_cm = confusion_matrix(test_y,bert_pred)"
      ],
      "execution_count": null,
      "outputs": []
    },
    {
      "cell_type": "code",
      "metadata": {
        "colab": {
          "base_uri": "https://localhost:8080/",
          "height": 625
        },
        "id": "jpmrkZU0eU7m",
        "outputId": "ae9a587b-fe7f-4d63-8076-7fd271d6e63a"
      },
      "source": [
        "plt.figure(figsize = (10,10))\n",
        "sns.heatmap(bert_cm,cmap= \"Blues\", linecolor = 'black' , linewidth = 1 , annot = True, fmt='' , xticklabels = ['Negative','Positive'] , yticklabels = ['Negative','Positive'])\n",
        "plt.xlabel(\"Predicted Reviews\")\n",
        "plt.ylabel(\"Actual Reviews\")"
      ],
      "execution_count": null,
      "outputs": [
        {
          "output_type": "execute_result",
          "data": {
            "text/plain": [
              "Text(69.0, 0.5, 'Actual Reviews')"
            ]
          },
          "metadata": {
            "tags": []
          },
          "execution_count": 33
        },
        {
          "output_type": "display_data",
          "data": {
            "image/png": "[encoded data removed]",
            "text/plain": [
              "<Figure size 720x720 with 2 Axes>"
            ]
          },
          "metadata": {
            "tags": []
          }
        }
      ]
    },
    {
      "cell_type": "code",
      "metadata": {
        "colab": {
          "base_uri": "https://localhost:8080/"
        },
        "id": "Ie5yutrg0n_T",
        "outputId": "be029233-6a67-4bcf-d223-7541eb5c4cb4"
      },
      "source": [
        "test_review.values"
      ],
      "execution_count": null,
      "outputs": [
        {
          "output_type": "execute_result",
          "data": {
            "text/plain": [
              "array([\"Renee Zellweger absolutely shines as Nurse Betty, easily one of the most charming, off-beat, and lighthearted comedies of the year.<br /><br />When soap opera obsessed waitress Betty Sizemore witnesses her insensitive husband's murder by two hitmen (Morgan Freeman and Chris Rock), she snaps and thinks the cast members on A Reason to Love are real. She decides to travel to Los Angeles to find famed heart specialist Dr. David Ravell (a character on the show).<br /><br />As the two oddly paired Hitmen, the caustic Rock and the pontificating Freeman generate some very fun chemistry, and Greg Kinnear also has fun with his smarmy offscreen actor persona. Renee Zellweger turns in an innocent, candy-coated, and sometimes terribly sweet performance as Nurse Betty. She exudes goodness, warmth, and is irresistible. While the script sometimes feels like a sit-com, is filled with sometimes unbelievable characters and contrived situations, Zellweger is so likeable and so utterly disarming that it all comes together.<br /><br />With just a few splashes of black comedy to keep things interesting, a winning performance from Zellweger, a great supporting cast and a competent script, Nurse Betty is utterly delightful.<br /><br />7 out of 10\",\n",
              "       'I guess I have to write something here, although I think my one summary says it all. I\\'m not a huge Ted Danson fan... nothing against the man, just hasn\\'t \"done it\" for me. This covers the sides of Swift\\'s novel that were never covered before. You can tell the cast was having a wonderful time filming this.',\n",
              "       \"This movie earned every one of the ten votes I gave it! Thank you guys for making a movie worth watching. You showed the world,you can still write, direct, produce and star in a black movie without the negative stereotypes. The poetry was awesome as well, hats off to the poets and musicians.<br /><br />I watched it last night, as I fell in love with my darling all over again. I will be adding it to my movie collection today, and recommending it to my friends and family.<br /><br />Please continue to produce quality, don't worry about the quantity....<br /><br />Thank you again, and best wishes and blesses to you!\",\n",
              "       ...,\n",
              "       'I\\'m sure I saw FUTURE KILL for the same reason as most people: the awesome poster by HR Giger. And like everyone else, I was disappointed to find that the movie could not live up to the poster (Giger said that director Moore actually begged him to do it). When I first saw this, at the age of 14, I thought it was the worst movie ever made. I\\'d still think that if I hadn\\'t seen certain movies on MST3K since then.<br /><br />The plot has a bunch of annoying college boys driving into the \"mutant city\" to kidnap a gang-leader for their fraternity. That\\'s when they meet Splatter (Ed Neal), a mutant/cyborg/psycho who kills the gang leader and blames it on the frats as an excuse to hunt them down and seize power. The rest of the movie consists mostly of chases. A hand-full of frats try to battle their way out of mutant city (which I think is supposed to be LA, even though it was made in Texas). There\\'s some pseudo-political stuff about the frat boys\\' society being pro-nuclear weapons and the mutant-society being anti-nuke. There\\'s talk of how Splatter became a freak due to radiation. Most people develop cancer from radiation, but splatter just shoots spikes and slaughters girls. Yeah, that makes tons of sense. At one point, our heroes rescue a mutant girl from two pro-nuke police, and she shows them \"how the other half lives.\" The other half, it turns out, are all punk kids who dance around to a bad 80s pop-band. So our little epic is both dumb and dated. That\\'s really all there is to it. Frat boys running around in messed up buildings while guys who look like bikers try to kill them... Oh, and it\\'s the future.<br /><br />I don\\'t think you\\'ll have any doubt about why Ron W. Moore never made another movie. This thing is a real stinker. If you like Giger, buy his books (they have the poster without the horrors of the movie), or just watch ALIEN again. FUTURE KILL is a waste of time that nobody needs.<br /><br />If this description makes the picture sound good, there\\'s another crappy movie that does the same thing, only bigger and better: AFTER THE FALL OF NEW YORK. It\\'s crap, but it blows FUTURE KILL off the screen.',\n",
              "       \"Once again seeing this kind of movies turns me more and more into English humor, not too often seen on screen since the days of Monty Python and Man About The House. Too bad.<br /><br />Brenda Blethyn (Who I first saw in Saving Grace early in the year, another must see by the way.) just excels, as Alfred Molina does. The rest of the cast, while virtually unknown to me, turns on great performances too. The film starts slowly and gradually gains in pace and amusement - midway I had tears in my eyes from laughing.<br /><br />All in all, a funny English movie, a thousand times better than the supposedly 'funny' garbage that comes from Hollywood.<br /><br />\",\n",
              "       'Mind-numbingly boring, utterly predictable and in the end simply laughable. That pretty much sums up the disaster that is Indecent Proposal. Starting with a decent premise the whole thing just unravels and becomes a complete mess. Basically the story boils down to the question, \"would you let your wife sleep with another man for one million dollars?\" Here of course the answer is yes because otherwise we wouldn\\'t have a movie. Quite frankly, we\\'d have been better off if we didn\\'t have a movie.<br /><br />Our married (and financially troubled) couple are played by Woody Harrelson and Demi Moore. They go to Vegas to get rich. Yeah, that\\'ll work. Anyhow, a billionaire, played by Robert Redford, takes a liking to the wife and makes the million dollar offer. For one night with the wife he will give them financial security. The aftermath of that one night is what the movie is really all about. Unfortunately nothing in that aftermath is the least bit entertaining. The script is so predictable you can say the characters\\' lines before they do. The performances leave much to be desired. Harrelson would be better off sticking to comedies as this attempt at serious acting completely misses the mark. Anguish is not something he seems capable of portraying. And it is quite safe to say that Demi Moore will never have to clear space in her home for any Academy Awards. Why is she a movie star again? In a part that should be full of emotion she conveys none. Only Redford escapes mostly unscathed. He\\'s appropriately slimy yet suave and clearly the best actor of the bunch. But he can\\'t save this film. Awful script, lousy acting, plodding pace, zero entertainment...Indecent Proposal is downright awful.'],\n",
              "      dtype=object)"
            ]
          },
          "metadata": {
            "tags": []
          },
          "execution_count": 27
        }
      ]
    },
    {
      "cell_type": "code",
      "metadata": {
        "id": "0Yr0Jq4fzyxJ"
      },
      "source": [
        "text_sample = np.array(['My one of the favourite lines from the movie was...joker saying to himself,,,\"I used to think that my life is a TRAGEDY but now i realise that it is nothing but COMEDY\"....so, u can imagine how disturbing a movie could be with its theme being TRAGEDY=COMEDY...but it was not that disturbing for me as i am used to of or aware of the ongoing social-political structure of our country','\"It has dwarfs, music, Technicolor, freak characters, and Judy Garland. It cant be expected to have a sense of humor as well, and as for the light touch of fantasy, it weighs like a pound of fruitcake soaking wet.'])\n",
        "text_sample_encoder = fast_encode(text_sample, bert_tokenizer)\n"
      ],
      "execution_count": null,
      "outputs": []
    },
    {
      "cell_type": "code",
      "metadata": {
        "id": "99HY6A3O3oMY"
      },
      "source": [
        "test_review_ind = np.array(test_review)"
      ],
      "execution_count": null,
      "outputs": []
    },
    {
      "cell_type": "code",
      "metadata": {
        "colab": {
          "base_uri": "https://localhost:8080/",
          "height": 145
        },
        "id": "AqRyJytY4O_9",
        "outputId": "42214341-2bee-4f27-cad6-21556cdf88d7"
      },
      "source": [
        "test_review_ind[3]"
      ],
      "execution_count": null,
      "outputs": [
        {
          "output_type": "execute_result",
          "data": {
            "application/vnd.google.colaboratory.intrinsic+json": {
              "type": "string"
            },
            "text/plain": [
              "'This is an excellent movie that tackles the issue of racism in a delicate and balanced way. Great performances all round but absolutely outstanding acting by Sidney Poitier.<br /><br />He makes this movie breathe and alive. His portrayal of a guy who struggles against discrimination and violence is simply mind blowing. His acting is forceful and delicate and subtle at the same time. Truly worthy of an Oscar, Poitier had to wait (because of his skin colour) for many more years before the sheer brilliance of his acting was recognised by the Academy.<br /><br />Cassavetes turns in a great performance too, withdrawn, troubled and realistic as it has become his hallmark. He and Poitier contrast inimitably the forces of cowardice, courage and human transformation through friendship.<br /><br />The movie is enjoyable and at the same time deeply haunting in its portrayal of racism in the US. The irony is that it somehow mirrors the realities under which Poitier had to work.'"
            ]
          },
          "metadata": {
            "tags": []
          },
          "execution_count": 55
        }
      ]
    },
    {
      "cell_type": "code",
      "metadata": {
        "id": "ocAIXp9K42UA",
        "colab": {
          "base_uri": "https://localhost:8080/"
        },
        "outputId": "2d4293ec-9ebf-4c87-f280-2b18c19a7105"
      },
      "source": [
        "bert_pred_ori[3]"
      ],
      "execution_count": null,
      "outputs": [
        {
          "output_type": "execute_result",
          "data": {
            "text/plain": [
              "array([0.9997967], dtype=float32)"
            ]
          },
          "metadata": {
            "tags": []
          },
          "execution_count": 54
        }
      ]
    }
  ]
}